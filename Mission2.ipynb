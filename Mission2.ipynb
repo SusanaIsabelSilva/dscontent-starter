{
 "cells": [
  {
   "cell_type": "markdown",
   "metadata": {},
   "source": [
    "<!-- mission_number=2 file_list=[] mode=\"multiscreen\" -->\n",
    "\n",
    "# Introduction\n",
    "## Before we start with missions, let's get familiar with the interface and basic Python syntax.\n",
    "## Vik Paruchuri\n"
   ]
  },
  {
   "cell_type": "markdown",
   "metadata": {},
   "source": [
    "<!-- type=\"code\" -->\n",
    "\n",
    "# The interface\n",
    "\n",
    "Welcome to DataQuest!\n",
    "\n",
    "Before we dive into the data, we'll spend a few screens learning about the\n",
    "interface.\n",
    "\n",
    "This box is the instructions area. The box to the right is the code area,\n",
    "where you type in code.\n",
    "\n",
    "The results and variables areas are used to show data about the code being\n",
    "run. We'll learn more about these later on.\n",
    "\n",
    "For now, take a look at the instructions below.\n",
    "\n",
    "Then look at the code area.\n",
    "\n",
    "## Instructions\n",
    "\n",
    "Add in your own comment, and then hit \"Run\" to execute the code.\n",
    "\n",
    "You can also use `ctrl+alt+r` to run code. Click on the instructions panel,\n",
    "then type `?` to see all the hotkeys.\n",
    "\n",
    "## Hint\n",
    "\n",
    "Just hit run."
   ]
  },
  {
   "cell_type": "code",
   "execution_count": 1,
   "metadata": {
    "collapsed": true
   },
   "outputs": [],
   "source": [
    "## Display\n",
    "\n",
    "# We'll be coding in python.\n",
    "# Python is a great general purpose language, and is used in a lot of data science and machine learning applications.\n",
    "# If you don't know python, that's okay -- important concepts will be introduced as we go along.\n",
    "# In python, any line that starts with a # is called a comment, and is used to put in notes and messages.\n",
    "# It isn't part of the code, and isn't executed.\n",
    "\n",
    "## Answer\n",
    "\n",
    "# This is a comment.\n",
    "\n",
    "## Check val\n"
   ]
  },
  {
   "cell_type": "markdown",
   "metadata": {},
   "source": [
    "<!-- type=\"code\" -->\n",
    "\n",
    "# Navigation\n",
    "\n",
    "You can use the dropdown above to move between screens.\n",
    "\n",
    "You can jump forward to skip material you already know, or go backwards to\n",
    "refresh your understanding of a concept.\n",
    "\n",
    "Your progress and code are always saved.\n",
    "\n",
    "## Instructions\n",
    "\n",
    "Use the _print_ function to print out `5`\n",
    "\n",
    "## Hint\n",
    "\n",
    "Use the print function, followed by the number 5 to print out 5."
   ]
  },
  {
   "cell_type": "code",
   "execution_count": 9,
   "metadata": {
    "collapsed": false
   },
   "outputs": [
    {
     "name": "stdout",
     "output_type": "stream",
     "text": [
      "10\n",
      "5\n"
     ]
    },
    {
     "data": {
      "text/plain": [
       "'5'"
      ]
     },
     "execution_count": 9,
     "metadata": {},
     "output_type": "execute_result"
    }
   ],
   "source": [
    "## Display\n",
    "\n",
    "# The results area to the right will show the output of the code that is executed.\n",
    "# Output will show when you use the print function.\n",
    "# For example, the line below will print out 10.\n",
    "print(10)\n",
    "\n",
    "## Answer\n",
    "\n",
    "print(5)\n",
    "\n",
    "## Check val\n",
    "\n",
    "\"5\""
   ]
  },
  {
   "cell_type": "markdown",
   "metadata": {},
   "source": [
    "<!-- type=\"code\" -->\n",
    "\n",
    "# Types of Variables\n",
    "\n",
    "Different variables can have different types. Types are useful when it comes\n",
    "time to do computation.\n",
    "\n",
    "## Instructions\n",
    "\n",
    "Assign an _integer_ to `h`, a _string_ to `i`, and a _float_ to `j`.\n",
    "\n",
    "## Hint\n",
    "\n",
    "Use the equals sign to assign the value on the right to the variable on the\n",
    "left."
   ]
  },
  {
   "cell_type": "code",
   "execution_count": 4,
   "metadata": {
    "collapsed": false
   },
   "outputs": [
    {
     "name": "stdout",
     "output_type": "stream",
     "text": [
      "-5\n"
     ]
    },
    {
     "ename": "SyntaxError",
     "evalue": "'return' outside function (<ipython-input-4-2f49dbf0011e>, line 38)",
     "output_type": "error",
     "traceback": [
      "\u001b[0;36m  File \u001b[0;32m\"<ipython-input-4-2f49dbf0011e>\"\u001b[0;36m, line \u001b[0;32m38\u001b[0m\n\u001b[0;31m    return True, \"\"\u001b[0m\n\u001b[0m    ^\u001b[0m\n\u001b[0;31mSyntaxError\u001b[0m\u001b[0;31m:\u001b[0m 'return' outside function\n"
     ]
    }
   ],
   "source": [
    "## Display\n",
    "\n",
    "# A number without decimals is an integer type.\n",
    "# An integer can hold negative and positive values\n",
    "# We can do do math with integers.\n",
    "a = 5\n",
    "b = -1\n",
    "print(a * b)\n",
    "\n",
    "# Anything enclosed in single or double quotes is a string.\n",
    "# Strings hold text.\n",
    "# We can't do math with strings like we can with integers.\n",
    "# But there are some operations we can do (that we will learn later on).\n",
    "c = \"I am a string.  I do string-like things.\"\n",
    "d = 'Also a string!'\n",
    "\n",
    "# Floats are numbers with decimal points.\n",
    "e = 5.1\n",
    "f = 10.2\n",
    "g = e * f\n",
    "\n",
    "# There are other types that we will learn about later on.\n",
    "\n",
    "## Answer\n",
    "\n",
    "h = 1\n",
    "i = \"Strings are great.\"\n",
    "j = 5.1\n",
    "\n",
    "## Check vars\n",
    "\n",
    "['h', 'i', 'j']\n",
    "\n",
    "## Check code run\n",
    "\n",
    "if h is not None and i is not None and j is not None:\n",
    "  if isinstance(h, int) and isinstance(i, str) and isinstance(j, float):\n",
    "      return True, \"\"\n",
    "return False, \"\""
   ]
  },
  {
   "cell_type": "markdown",
   "metadata": {},
   "source": [
    "<!-- type=\"code\" -->\n",
    "\n",
    "# Finding the type of a variable\n",
    "\n",
    "We can use the type function to display the type of a variable. A function is\n",
    "a named chunk of code that takes certain inputs and gives you an output.\n",
    "\n",
    "You can use functions by typing their name, and passing in the inputs. Some\n",
    "functions can have multiple input values.\n",
    "\n",
    "## Instructions\n",
    "\n",
    "Assign the _type_ of `10` to `c`, the _type_ of `\"racecar\"` to `d`, and the _type_ of `10.6` to `e`.\n",
    "\n",
    "## Hint\n",
    "\n",
    "Remember that c = type(5) assigns the type of 5 to the variable c. d = type('test') will assign the type of 'test' to d."
   ]
  },
  {
   "cell_type": "code",
   "execution_count": 5,
   "metadata": {
    "collapsed": false
   },
   "outputs": [
    {
     "name": "stdout",
     "output_type": "stream",
     "text": [
      "<class 'str'>\n"
     ]
    },
    {
     "data": {
      "text/plain": [
       "['c', 'd', 'e']"
      ]
     },
     "execution_count": 5,
     "metadata": {},
     "output_type": "execute_result"
    }
   ],
   "source": [
    "## Display\n",
    "\n",
    "# The type function has only one input value.\n",
    "a = type(5)\n",
    "\n",
    "# The above code invokes the type function on the input 5, and as the output, we get the type of 5.\n",
    "# The type is assigned to a.\n",
    "\n",
    "\n",
    "# We can also invoke functions on variables.\n",
    "b = \"DataQuest is the best thing ever\"\n",
    "# Note how when the type for b is printed, it is abbreviated to str.\n",
    "print(type(b))\n",
    "\n",
    "## Answer\n",
    "\n",
    "c = type(10)\n",
    "d = type(\"racecar\")\n",
    "e = type(10.6)\n",
    "\n",
    "## Check vars\n",
    "\n",
    "['c', 'd', 'e']"
   ]
  },
  {
   "cell_type": "markdown",
   "metadata": {},
   "source": [
    "<!-- type=\"code\" -->\n",
    "\n",
    "# Overwriting Variables\n",
    "\n",
    "We can overwrite variables with new values whenever we want.\n",
    "\n",
    "The variable will only store the most recent value that has been assigned to\n",
    "it.\n",
    "\n",
    "## Instructions\n",
    "\n",
    "Assign `10` to `a`, and `\"Antarctica is not a country\"` to `b`.\n",
    "\n",
    "## Hint\n",
    "\n",
    "Just assign the new values to the existing variables."
   ]
  },
  {
   "cell_type": "code",
   "execution_count": 6,
   "metadata": {
    "collapsed": false
   },
   "outputs": [
    {
     "name": "stdout",
     "output_type": "stream",
     "text": [
      "5.1\n",
      "5\n"
     ]
    },
    {
     "data": {
      "text/plain": [
       "['a', 'b']"
      ]
     },
     "execution_count": 6,
     "metadata": {},
     "output_type": "execute_result"
    }
   ],
   "source": [
    "## Display\n",
    "\n",
    "a = 5.1\n",
    "b = 5\n",
    "print(a)\n",
    "print(b)\n",
    "\n",
    "# We can assign new values to existing variables.\n",
    "# It doesn't matter if the new values are different types -- they will still overwrite the variable.\n",
    "a = \"test\"\n",
    "b = 5.1\n",
    "\n",
    "## Answer\n",
    "\n",
    "a = 10\n",
    "b = \"Antarctica is not a country\"\n",
    "\n",
    "## Check vars\n",
    "\n",
    "['a', 'b']"
   ]
  },
  {
   "cell_type": "markdown",
   "metadata": {},
   "source": [
    "<!-- type=\"code\" -->\n",
    "\n",
    "# More on printing\n",
    "\n",
    "The print function is used to display values. We can print out variables and\n",
    "values.\n",
    "\n",
    "In DataQuest, the output from print functions will show up in the results box\n",
    "to the right.\n",
    "\n",
    "Each time you print something, it will output on a new line.\n",
    "\n",
    "Printing complex variables will sometimes take up multiple lines in the\n",
    "results box.\n",
    "\n",
    "Printing is very useful when something isn't working how you expect it to, and\n",
    "you want to debug.\n",
    "\n",
    "## Instructions\n",
    "\n",
    "Use the _print_ function to print out the _string_ `\"Good evening\"`.\n",
    "\n",
    "## Hint\n",
    "\n",
    "Just print out the string 'Hello'."
   ]
  },
  {
   "cell_type": "code",
   "execution_count": 7,
   "metadata": {
    "collapsed": false
   },
   "outputs": [
    {
     "name": "stdout",
     "output_type": "stream",
     "text": [
      "5\n",
      "5\n",
      "Hello.\n",
      "Goodbye.\n",
      "Good evening\n"
     ]
    },
    {
     "data": {
      "text/plain": [
       "'Good evening'"
      ]
     },
     "execution_count": 7,
     "metadata": {},
     "output_type": "execute_result"
    }
   ],
   "source": [
    "## Display\n",
    "\n",
    "# We can print out values and variables.\n",
    "print(5)\n",
    "a = 5\n",
    "print(a)\n",
    "\n",
    "# Notice how two lines appeared in the results area?\n",
    "# We can also print some values that will take up multiple lines.\n",
    "# The \\n character means 'make a new line'\n",
    "print(\"Hello.\\nGoodbye.\")\n",
    "\n",
    "## Answer\n",
    "\n",
    "print(\"Good evening\")\n",
    "\n",
    "## Check val\n",
    "\n",
    "\"Good evening\""
   ]
  },
  {
   "cell_type": "markdown",
   "metadata": {},
   "source": [
    "<!-- type=\"code\" -->\n",
    "\n",
    "# Debug mode\n",
    "\n",
    "You might have seen the _Debug_ button at the bottom.\n",
    "\n",
    "This button will switch you into _debug mode_, and let you execute the code\n",
    "line by line.\n",
    "\n",
    "You can use the control buttons in debug mode to step forward one line,\n",
    "backwards one line, or go all the way to the beginning or end of the code.\n",
    "\n",
    "This can be really useful when you have complex code with functions and if\n",
    "statements (which we'll learn about later) that you need help understanding.\n",
    "\n",
    "It can also be useful when there is an error in your code and you want to find\n",
    "out why it is happening.\n",
    "\n",
    "The blue marker at the left indicates which line is about to be executed. All\n",
    "lines before it have already been run.\n",
    "\n",
    "The variables and results on the right are shown in order, and update as you\n",
    "move through the code.\n",
    "\n",
    "## Instructions\n",
    "\n",
    "Try stepping through the code above.\n",
    "\n",
    "Feel free to add in new variables or print functions if you want.\n",
    "\n",
    "Hit \"Next\" to move to the next screen when you're done."
   ]
  },
  {
   "cell_type": "code",
   "execution_count": 8,
   "metadata": {
    "collapsed": false
   },
   "outputs": [
    {
     "name": "stdout",
     "output_type": "stream",
     "text": [
      "10\n",
      "10\n"
     ]
    }
   ],
   "source": [
    "# Comments aren't executed, so debug mode skips them.\n",
    "# But other lines can be stepped through.\n",
    "print(10)\n",
    "a = 10\n",
    "print(a)"
   ]
  },
  {
   "cell_type": "markdown",
   "metadata": {},
   "source": [
    "<!-- type=\"code\" -->\n",
    "\n",
    "# Python 2 vs 3\n",
    "\n",
    "One last thing before we get started -- in this course, we'll be using Python\n",
    "version 3 (or just Python 3).\n",
    "\n",
    "There are two major versions right now, 2 and 3. 3 is newer, and has some nice\n",
    "new features.\n",
    "\n",
    "For a long time, nobody used Python 3, because most code was only compatible\n",
    "with Python 2.\n",
    "\n",
    "Over the past few years, people have put in a lot of effort to make most\n",
    "Python code compatible with Python 3.\n",
    "\n",
    "## Instructions\n",
    "\n",
    "Hit \"Next\" to move to the next screen."
   ]
  },
  {
   "cell_type": "code",
   "execution_count": null,
   "metadata": {
    "collapsed": true
   },
   "outputs": [],
   "source": [
    "# The major difference that you will immediately notice between python 2 and 3 is the print function.\n",
    "# The function below will work in Python 2 and 3.\n",
    "print(10)\n",
    "\n",
    "# For now, you don't need to worry too much about Python 2, but it's good to be aware of the differences."
   ]
  }
 ],
 "metadata": {
  "kernelspec": {
   "display_name": "Python 3",
   "language": "python",
   "name": "python3"
  },
  "language_info": {
   "codemirror_mode": {
    "name": "ipython",
    "version": 3
   },
   "file_extension": ".py",
   "mimetype": "text/x-python",
   "name": "python",
   "nbconvert_exporter": "python",
   "pygments_lexer": "ipython3",
   "version": "3.4.2"
  }
 },
 "nbformat": 4,
 "nbformat_minor": 0
}
